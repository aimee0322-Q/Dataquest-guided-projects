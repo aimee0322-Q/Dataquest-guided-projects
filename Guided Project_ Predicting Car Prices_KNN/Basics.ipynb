{
 "cells": [
  {
   "cell_type": "code",
   "execution_count": 1,
   "metadata": {
    "collapsed": true
   },
   "outputs": [],
   "source": [
    "import pandas as pd\n",
    "import numpy as np"
   ]
  },
  {
   "cell_type": "markdown",
   "metadata": {},
   "source": [
    "### Task 1"
   ]
  },
  {
   "cell_type": "code",
   "execution_count": 2,
   "metadata": {
    "collapsed": false
   },
   "outputs": [],
   "source": [
    "cols = ['symboling', 'normalized-losses', 'make', 'fuel-type', 'aspiration', 'num-of-doors', 'body-style', \n",
    "        'drive-wheels', 'engine-location', 'wheel-base', 'length', 'width', 'height', 'curb-weight', 'engine-type', \n",
    "        'num-of-cylinders', 'engine-size', 'fuel-system', 'bore', 'stroke', 'compression-rate', 'horsepower', 'peak-rpm', 'city-mpg', 'highway-mpg', 'price']\n",
    "cars = pd.read_csv('imports-85.data', names=cols)"
   ]
  },
  {
   "cell_type": "markdown",
   "metadata": {},
   "source": [
    "Select only the columns with continuous values from datasets documentation\n",
    "\n",
    "Features: [normalized-losses, wheel-base,length,width, height,curb-weight, engine-size,bore,stroke, compression-ratio,horsepower,peak-rpm,city-mpg,highway-mpg] \n",
    "\n",
    "Target: Price"
   ]
  },
  {
   "cell_type": "code",
   "execution_count": 3,
   "metadata": {
    "collapsed": true
   },
   "outputs": [],
   "source": [
    "continuous_values_cols = ['normalized-losses', 'wheel-base', 'length', 'width', 'height', 'curb-weight', 'engine-size', 'bore', 'stroke', 'compression-rate', 'horsepower', 'peak-rpm', 'city-mpg', 'highway-mpg', 'price']\n",
    "numeric_cars = cars[continuous_values_cols]"
   ]
  },
  {
   "cell_type": "markdown",
   "metadata": {},
   "source": [
    "### Task 2: Data Cleaning"
   ]
  },
  {
   "cell_type": "code",
   "execution_count": 4,
   "metadata": {
    "collapsed": true
   },
   "outputs": [],
   "source": [
    "numeric_cars = numeric_cars.replace('?',np.nan)"
   ]
  },
  {
   "cell_type": "code",
   "execution_count": 5,
   "metadata": {
    "collapsed": false
   },
   "outputs": [
    {
     "data": {
      "text/plain": [
       "normalized-losses    41\n",
       "wheel-base            0\n",
       "length                0\n",
       "width                 0\n",
       "height                0\n",
       "curb-weight           0\n",
       "engine-size           0\n",
       "bore                  4\n",
       "stroke                4\n",
       "compression-rate      0\n",
       "horsepower            2\n",
       "peak-rpm              2\n",
       "city-mpg              0\n",
       "highway-mpg           0\n",
       "price                 4\n",
       "dtype: int64"
      ]
     },
     "execution_count": 5,
     "metadata": {},
     "output_type": "execute_result"
    }
   ],
   "source": [
    "    # Below columns need to be converted to numertic type\n",
    "    # normalized-losses,bore, stroke, horsepower, peak-rpm & price\n",
    "numeric_cars = numeric_cars.astype('float')\n",
    "numeric_cars.isnull().sum()"
   ]
  },
  {
   "cell_type": "code",
   "execution_count": 6,
   "metadata": {
    "collapsed": false
   },
   "outputs": [
    {
     "data": {
      "text/plain": [
       "normalized-losses    0\n",
       "wheel-base           0\n",
       "length               0\n",
       "width                0\n",
       "height               0\n",
       "curb-weight          0\n",
       "engine-size          0\n",
       "bore                 0\n",
       "stroke               0\n",
       "compression-rate     0\n",
       "horsepower           0\n",
       "peak-rpm             0\n",
       "city-mpg             0\n",
       "highway-mpg          0\n",
       "price                0\n",
       "dtype: int64"
      ]
     },
     "execution_count": 6,
     "metadata": {},
     "output_type": "execute_result"
    }
   ],
   "source": [
    "# Because `price` is the column we want to predict, let's remove any rows with missing `price` values.\n",
    "numeric_cars = numeric_cars.dropna(subset=['price'])\n",
    "\n",
    "# Replace missing values in other columns using column means.\n",
    "numeric_cars = numeric_cars.fillna(numeric_cars.mean())\n",
    "price_col = numeric_cars['price'] \n",
    "numeric_cars.isnull().sum()"
   ]
  },
  {
   "cell_type": "code",
   "execution_count": 7,
   "metadata": {
    "collapsed": false
   },
   "outputs": [
    {
     "data": {
      "text/html": [
       "<div>\n",
       "<style scoped>\n",
       "    .dataframe tbody tr th:only-of-type {\n",
       "        vertical-align: middle;\n",
       "    }\n",
       "\n",
       "    .dataframe tbody tr th {\n",
       "        vertical-align: top;\n",
       "    }\n",
       "\n",
       "    .dataframe thead th {\n",
       "        text-align: right;\n",
       "    }\n",
       "</style>\n",
       "<table border=\"1\" class=\"dataframe\">\n",
       "  <thead>\n",
       "    <tr style=\"text-align: right;\">\n",
       "      <th></th>\n",
       "      <th>normalized-losses</th>\n",
       "      <th>wheel-base</th>\n",
       "      <th>length</th>\n",
       "      <th>width</th>\n",
       "      <th>height</th>\n",
       "      <th>curb-weight</th>\n",
       "      <th>engine-size</th>\n",
       "      <th>bore</th>\n",
       "      <th>stroke</th>\n",
       "      <th>compression-rate</th>\n",
       "      <th>horsepower</th>\n",
       "      <th>peak-rpm</th>\n",
       "      <th>city-mpg</th>\n",
       "      <th>highway-mpg</th>\n",
       "      <th>price</th>\n",
       "    </tr>\n",
       "  </thead>\n",
       "  <tbody>\n",
       "    <tr>\n",
       "      <th>0</th>\n",
       "      <td>0.298429</td>\n",
       "      <td>0.058309</td>\n",
       "      <td>0.413433</td>\n",
       "      <td>0.324786</td>\n",
       "      <td>0.083333</td>\n",
       "      <td>0.411171</td>\n",
       "      <td>0.260377</td>\n",
       "      <td>0.664286</td>\n",
       "      <td>0.290476</td>\n",
       "      <td>0.1250</td>\n",
       "      <td>0.294393</td>\n",
       "      <td>0.346939</td>\n",
       "      <td>0.222222</td>\n",
       "      <td>0.289474</td>\n",
       "      <td>13495.0</td>\n",
       "    </tr>\n",
       "    <tr>\n",
       "      <th>1</th>\n",
       "      <td>0.298429</td>\n",
       "      <td>0.058309</td>\n",
       "      <td>0.413433</td>\n",
       "      <td>0.324786</td>\n",
       "      <td>0.083333</td>\n",
       "      <td>0.411171</td>\n",
       "      <td>0.260377</td>\n",
       "      <td>0.664286</td>\n",
       "      <td>0.290476</td>\n",
       "      <td>0.1250</td>\n",
       "      <td>0.294393</td>\n",
       "      <td>0.346939</td>\n",
       "      <td>0.222222</td>\n",
       "      <td>0.289474</td>\n",
       "      <td>16500.0</td>\n",
       "    </tr>\n",
       "    <tr>\n",
       "      <th>2</th>\n",
       "      <td>0.298429</td>\n",
       "      <td>0.230321</td>\n",
       "      <td>0.449254</td>\n",
       "      <td>0.444444</td>\n",
       "      <td>0.383333</td>\n",
       "      <td>0.517843</td>\n",
       "      <td>0.343396</td>\n",
       "      <td>0.100000</td>\n",
       "      <td>0.666667</td>\n",
       "      <td>0.1250</td>\n",
       "      <td>0.495327</td>\n",
       "      <td>0.346939</td>\n",
       "      <td>0.166667</td>\n",
       "      <td>0.263158</td>\n",
       "      <td>16500.0</td>\n",
       "    </tr>\n",
       "    <tr>\n",
       "      <th>3</th>\n",
       "      <td>0.518325</td>\n",
       "      <td>0.384840</td>\n",
       "      <td>0.529851</td>\n",
       "      <td>0.504274</td>\n",
       "      <td>0.541667</td>\n",
       "      <td>0.329325</td>\n",
       "      <td>0.181132</td>\n",
       "      <td>0.464286</td>\n",
       "      <td>0.633333</td>\n",
       "      <td>0.1875</td>\n",
       "      <td>0.252336</td>\n",
       "      <td>0.551020</td>\n",
       "      <td>0.305556</td>\n",
       "      <td>0.368421</td>\n",
       "      <td>13950.0</td>\n",
       "    </tr>\n",
       "    <tr>\n",
       "      <th>4</th>\n",
       "      <td>0.518325</td>\n",
       "      <td>0.373178</td>\n",
       "      <td>0.529851</td>\n",
       "      <td>0.521368</td>\n",
       "      <td>0.541667</td>\n",
       "      <td>0.518231</td>\n",
       "      <td>0.283019</td>\n",
       "      <td>0.464286</td>\n",
       "      <td>0.633333</td>\n",
       "      <td>0.0625</td>\n",
       "      <td>0.313084</td>\n",
       "      <td>0.551020</td>\n",
       "      <td>0.138889</td>\n",
       "      <td>0.157895</td>\n",
       "      <td>17450.0</td>\n",
       "    </tr>\n",
       "  </tbody>\n",
       "</table>\n",
       "</div>"
      ],
      "text/plain": [
       "   normalized-losses  wheel-base    length     width    height  curb-weight  \\\n",
       "0           0.298429    0.058309  0.413433  0.324786  0.083333     0.411171   \n",
       "1           0.298429    0.058309  0.413433  0.324786  0.083333     0.411171   \n",
       "2           0.298429    0.230321  0.449254  0.444444  0.383333     0.517843   \n",
       "3           0.518325    0.384840  0.529851  0.504274  0.541667     0.329325   \n",
       "4           0.518325    0.373178  0.529851  0.521368  0.541667     0.518231   \n",
       "\n",
       "   engine-size      bore    stroke  compression-rate  horsepower  peak-rpm  \\\n",
       "0     0.260377  0.664286  0.290476            0.1250    0.294393  0.346939   \n",
       "1     0.260377  0.664286  0.290476            0.1250    0.294393  0.346939   \n",
       "2     0.343396  0.100000  0.666667            0.1250    0.495327  0.346939   \n",
       "3     0.181132  0.464286  0.633333            0.1875    0.252336  0.551020   \n",
       "4     0.283019  0.464286  0.633333            0.0625    0.313084  0.551020   \n",
       "\n",
       "   city-mpg  highway-mpg    price  \n",
       "0  0.222222     0.289474  13495.0  \n",
       "1  0.222222     0.289474  16500.0  \n",
       "2  0.166667     0.263158  16500.0  \n",
       "3  0.305556     0.368421  13950.0  \n",
       "4  0.138889     0.157895  17450.0  "
      ]
     },
     "execution_count": 7,
     "metadata": {},
     "output_type": "execute_result"
    }
   ],
   "source": [
    "# To scale data\n",
    "  ## Method 1\n",
    "  \n",
    "from sklearn.preprocessing import MinMaxScaler\n",
    "scaler = MinMaxScaler()\n",
    "column = numeric_cars.drop(columns='price').columns\n",
    "\n",
    "numeric_cars = scaler.fit_transform(numeric_cars[column])\n",
    "numeric_cars = pd.DataFrame(numeric_cars, columns=column)\n",
    "\n",
    "numeric_cars['price'] = price_col\n",
    "numeric_cars = numeric_cars.dropna(subset=['price'])\n",
    "\n",
    "numeric_cars.head()"
   ]
  },
  {
   "cell_type": "code",
   "execution_count": 8,
   "metadata": {
    "collapsed": true
   },
   "outputs": [],
   "source": [
    " ## Or Method 2\n",
    "    \n",
    "# Normalize all columnns to range from 0 to 1 except the target column.\n",
    "#price_col = numeric_cars['price']\n",
    "#numeric_cars = (numeric_cars - numeric_cars.min())/(numeric_cars.max() - numeric_cars.min())\n",
    "#numeric_cars['price'] = price_col    "
   ]
  },
  {
   "cell_type": "markdown",
   "metadata": {},
   "source": [
    "### Step3 : univariate model"
   ]
  },
  {
   "cell_type": "code",
   "execution_count": 9,
   "metadata": {
    "collapsed": true
   },
   "outputs": [],
   "source": [
    "from sklearn.neighbors import KNeighborsRegressor\n",
    "from sklearn.model_selection import train_test_split\n",
    "from sklearn.metrics import mean_squared_error\n",
    "\n",
    "def knn_train_test(train_col, target, df):\n",
    "    \n",
    "    knn = KNeighborsRegressor()\n",
    "    np.random.seed(1)\n",
    "        \n",
    "    # Randomize order of rows in data frame.\n",
    "    shuffled_index = np.random.permutation(df.index)\n",
    "    rand_df = df.reindex(shuffled_index)  \n",
    "    feature = rand_df[train_col] \n",
    "    y = rand_df[target]\n",
    "    \n",
    "    x_train,x_test,y_train,y_test = train_test_split(feature,y,test_size=0.2)\n",
    "    # Fit a KNN model \n",
    "    knn.fit(x_train, y_train)\n",
    "    # Make a prediction\n",
    "    predictions = knn.predict(x_test)\n",
    "    \n",
    "    # Calculate and return RMSE.\n",
    "    mse = mean_squared_error(y_test, predictions)\n",
    "    rmse = np.sqrt(mse)\n",
    "    return rmse\n",
    "    "
   ]
  },
  {
   "cell_type": "code",
   "execution_count": 10,
   "metadata": {
    "collapsed": false,
    "scrolled": false
   },
   "outputs": [
    {
     "data": {
      "text/plain": [
       "{'bore': 8176.621612438721,\n",
       " 'city-mpg': 8199.617199662433,\n",
       " 'compression-rate': 8554.969552429746,\n",
       " 'curb-weight': 8317.706049025777,\n",
       " 'engine-size': 7965.283888475037,\n",
       " 'height': 8493.70486742976,\n",
       " 'highway-mpg': 8446.257407159694,\n",
       " 'horsepower': 8181.017333926143,\n",
       " 'length': 8264.16009852181,\n",
       " 'normalized-losses': 8741.615053924532,\n",
       " 'peak-rpm': 9443.089597266351,\n",
       " 'stroke': 8449.021079036316,\n",
       " 'wheel-base': 7993.622317760579,\n",
       " 'width': 8189.035229622596}"
      ]
     },
     "execution_count": 10,
     "metadata": {},
     "output_type": "execute_result"
    }
   ],
   "source": [
    "rmse_score = {}\n",
    "feature_cols = list(numeric_cars.drop(columns='price').columns)\n",
    "\n",
    "for feature in feature_cols:\n",
    "    rmse = knn_train_test([feature],'price', numeric_cars)\n",
    "    rmse_score[feature] = rmse\n",
    "rmse_score    "
   ]
  },
  {
   "cell_type": "code",
   "execution_count": 11,
   "metadata": {
    "collapsed": false
   },
   "outputs": [
    {
     "data": {
      "text/plain": [
       "engine-size          7965.283888\n",
       "wheel-base           7993.622318\n",
       "bore                 8176.621612\n",
       "horsepower           8181.017334\n",
       "width                8189.035230\n",
       "city-mpg             8199.617200\n",
       "length               8264.160099\n",
       "curb-weight          8317.706049\n",
       "highway-mpg          8446.257407\n",
       "stroke               8449.021079\n",
       "height               8493.704867\n",
       "compression-rate     8554.969552\n",
       "normalized-losses    8741.615054\n",
       "peak-rpm             9443.089597\n",
       "dtype: float64"
      ]
     },
     "execution_count": 11,
     "metadata": {},
     "output_type": "execute_result"
    }
   ],
   "source": [
    "# Create a Series object from the dictionary so \n",
    "# we can easily view the results, sort, etc\n",
    "rmse_results_series = pd.Series(rmse_score)\n",
    "rmse_results_series.sort_values()"
   ]
  },
  {
   "cell_type": "code",
   "execution_count": 12,
   "metadata": {
    "collapsed": true
   },
   "outputs": [],
   "source": [
    "k_values = [1,3,5,7,9]\n",
    "\n",
    "def knn_train_test(train_col, target, df):\n",
    "    np.random.seed(1)\n",
    "        \n",
    "    # Randomize order of rows in data frame.\n",
    "    shuffled_index = np.random.permutation(df.index)\n",
    "    rand_df = df.reindex(shuffled_index)  \n",
    "    feature = rand_df[train_col] \n",
    "    y = rand_df[target]\n",
    "    \n",
    "    x_train,x_test,y_train,y_test = train_test_split(feature,y,test_size=0.2)\n",
    "    \n",
    "    k_rmses = {}\n",
    "    for k in k_values:\n",
    "        \n",
    "        knn = KNeighborsRegressor(n_neighbors=k)\n",
    "        # Fit a KNN model \n",
    "        knn.fit(x_train, y_train)\n",
    "        # Make a prediction\n",
    "        predictions = knn.predict(x_test)\n",
    "        # Calculate and return RMSE.\n",
    "        mse = mean_squared_error(y_test, predictions)\n",
    "        rmse = np.sqrt(mse)\n",
    "        k_rmses[k] = rmse\n",
    "    return k_rmses\n",
    "    "
   ]
  },
  {
   "cell_type": "code",
   "execution_count": 13,
   "metadata": {
    "collapsed": false
   },
   "outputs": [
    {
     "data": {
      "text/plain": [
       "{'bore': {1: 11825.571461878702,\n",
       "  3: 8768.00376352692,\n",
       "  5: 8176.621612438721,\n",
       "  7: 8147.932217778337,\n",
       "  9: 8249.646749339567},\n",
       " 'city-mpg': {1: 9391.192675853265,\n",
       "  3: 8277.877431409845,\n",
       "  5: 8199.617199662433,\n",
       "  7: 7942.355336377598,\n",
       "  9: 7914.715429244814},\n",
       " 'compression-rate': {1: 13692.032892342904,\n",
       "  3: 9592.821740904903,\n",
       "  5: 8554.969552429746,\n",
       "  7: 8566.478522742718,\n",
       "  9: 8465.599352965995},\n",
       " 'curb-weight': {1: 10257.304074414486,\n",
       "  3: 8284.542506144266,\n",
       "  5: 8317.706049025777,\n",
       "  7: 8096.566656929469,\n",
       "  9: 8149.330971990853},\n",
       " 'engine-size': {1: 9796.430399640472,\n",
       "  3: 7968.194638164071,\n",
       "  5: 7965.283888475037,\n",
       "  7: 8067.022394430605,\n",
       "  9: 7963.334205908979},\n",
       " 'height': {1: 9612.676137527988,\n",
       "  3: 8342.987407930621,\n",
       "  5: 8493.70486742976,\n",
       "  7: 8264.03809920441,\n",
       "  9: 8266.432456882325},\n",
       " 'highway-mpg': {1: 9350.714909834434,\n",
       "  3: 9010.995203237973,\n",
       "  5: 8446.257407159694,\n",
       "  7: 8519.892149450327,\n",
       "  9: 8125.578746434384},\n",
       " 'horsepower': {1: 8343.169635995662,\n",
       "  3: 8125.802504812816,\n",
       "  5: 8181.017333926143,\n",
       "  7: 7829.825337634112,\n",
       "  9: 8127.310936220685},\n",
       " 'length': {1: 7947.114518804922,\n",
       "  3: 8375.79809215549,\n",
       "  5: 8264.16009852181,\n",
       "  7: 8226.676941170583,\n",
       "  9: 8065.684564105784},\n",
       " 'normalized-losses': {1: 7100.432217478032,\n",
       "  3: 7784.693895180893,\n",
       "  5: 8741.615053924532,\n",
       "  7: 9473.601767758746,\n",
       "  9: 9546.399996857455},\n",
       " 'peak-rpm': {1: 8833.036077702842,\n",
       "  3: 9149.327970767397,\n",
       "  5: 9443.089597266351,\n",
       "  7: 9520.444069373088,\n",
       "  9: 8822.828897066609},\n",
       " 'stroke': {1: 8886.78483901799,\n",
       "  3: 8531.394080427628,\n",
       "  5: 8449.021079036316,\n",
       "  7: 8366.136161024151,\n",
       "  9: 8129.797998473741},\n",
       " 'wheel-base': {1: 9360.0010109508,\n",
       "  3: 7790.643128137754,\n",
       "  5: 7993.622317760579,\n",
       "  7: 7879.148988187825,\n",
       "  9: 7968.205432847582},\n",
       " 'width': {1: 9515.992717525587,\n",
       "  3: 8558.348703816122,\n",
       "  5: 8189.035229622596,\n",
       "  7: 7419.073974030914,\n",
       "  9: 7589.25555424197}}"
      ]
     },
     "execution_count": 13,
     "metadata": {},
     "output_type": "execute_result"
    }
   ],
   "source": [
    "k_rmses_results = {}\n",
    "feature_cols = list(numeric_cars.drop(columns='price').columns)\n",
    "\n",
    "for feature in feature_cols:\n",
    "    k_rmse = knn_train_test([feature],'price', numeric_cars)\n",
    "    k_rmses_results[feature] = k_rmse\n",
    "k_rmses_results "
   ]
  },
  {
   "cell_type": "code",
   "execution_count": 14,
   "metadata": {
    "collapsed": false
   },
   "outputs": [
    {
     "data": {
      "image/png": "[encoded data removed]",
      "text/plain": [
       "<matplotlib.figure.Figure at 0x7f2208b7ed68>"
      ]
     },
     "metadata": {},
     "output_type": "display_data"
    }
   ],
   "source": [
    "import matplotlib.pyplot as plt\n",
    "%matplotlib inline\n",
    "for k,v in k_rmses_results.items():\n",
    "    x = list(v.keys())\n",
    "    y = list(v.values())\n",
    "    \n",
    "    plt.plot(x,y)\n",
    "    plt.xlabel('k value')\n",
    "    plt.ylabel('RMSE')\n"
   ]
  },
  {
   "cell_type": "markdown",
   "metadata": {},
   "source": [
    "### Task 4: Multivariate Model"
   ]
  },
  {
   "cell_type": "code",
   "execution_count": 15,
   "metadata": {
    "collapsed": false
   },
   "outputs": [
    {
     "data": {
      "text/plain": [
       "7062.644963680392"
      ]
     },
     "execution_count": 15,
     "metadata": {},
     "output_type": "execute_result"
    }
   ],
   "source": [
    "def knn_train_test(train_col_list, target, df):\n",
    "    \n",
    "    knn = KNeighborsRegressor()\n",
    "    np.random.seed(1)\n",
    "        \n",
    "    # Randomize order of rows in data frame.\n",
    "    shuffled_index = np.random.permutation(df.index)\n",
    "    rand_df = df.reindex(shuffled_index)  \n",
    "    feature = rand_df[train_col_list] \n",
    "    y = rand_df[target]\n",
    "    \n",
    "    x_train,x_test,y_train,y_test = train_test_split(feature,y,test_size=0.2)\n",
    "    # Fit a KNN model \n",
    "    knn.fit(x_train, y_train)\n",
    "    # Make a prediction\n",
    "    predictions = knn.predict(x_test)\n",
    "    \n",
    "    # Calculate and return RMSE.\n",
    "    mse = mean_squared_error(y_test, predictions)\n",
    "    rmse = np.sqrt(mse)\n",
    "    return rmse\n",
    "\n",
    "feature_cols = list(numeric_cars.drop(columns='price').columns)\n",
    "\n",
    "rmse = knn_train_test(feature_cols,'price', numeric_cars)\n",
    "rmse"
   ]
  },
  {
   "cell_type": "code",
   "execution_count": 16,
   "metadata": {
    "collapsed": false
   },
   "outputs": [
    {
     "name": "stdout",
     "output_type": "stream",
     "text": [
      "horsepower           8121.425150\n",
      "length               8175.886843\n",
      "wheel-base           8198.324176\n",
      "width                8254.341236\n",
      "city-mpg             8345.151615\n",
      "engine-size          8352.053105\n",
      "stroke               8472.626832\n",
      "normalized-losses    8529.348586\n",
      "height               8595.967794\n",
      "curb-weight          8621.090052\n",
      "highway-mpg          8690.687683\n",
      "bore                 9033.555161\n",
      "peak-rpm             9153.745322\n",
      "compression-rate     9774.380412\n",
      "dtype: float64\n"
     ]
    },
    {
     "data": {
      "text/plain": [
       "horsepower           8121.425150\n",
       "length               8175.886843\n",
       "wheel-base           8198.324176\n",
       "width                8254.341236\n",
       "city-mpg             8345.151615\n",
       "engine-size          8352.053105\n",
       "stroke               8472.626832\n",
       "normalized-losses    8529.348586\n",
       "height               8595.967794\n",
       "curb-weight          8621.090052\n",
       "highway-mpg          8690.687683\n",
       "bore                 9033.555161\n",
       "peak-rpm             9153.745322\n",
       "compression-rate     9774.380412\n",
       "dtype: float64"
      ]
     },
     "execution_count": 16,
     "metadata": {},
     "output_type": "execute_result"
    }
   ],
   "source": [
    "# Compute average RMSE across different `k` values for each feature.\n",
    "feature_avg_rmse = {}\n",
    "for k,v in k_rmses_results.items():\n",
    "    avg_rmse = np.mean(list(v.values()))\n",
    "    feature_avg_rmse[k] = avg_rmse\n",
    "series_avg_rmse = pd.Series(feature_avg_rmse)\n",
    "sorted_series_avg_rmse = series_avg_rmse.sort_values()\n",
    "print(sorted_series_avg_rmse)\n",
    "\n",
    "sorted_series_avg_rmse"
   ]
  },
  {
   "cell_type": "code",
   "execution_count": 17,
   "metadata": {
    "collapsed": false
   },
   "outputs": [
    {
     "data": {
      "text/plain": [
       "{2: 8534.288452765117,\n",
       " 3: 7611.16795853304,\n",
       " 4: 5942.747590803433,\n",
       " 5: 7071.127778013915}"
      ]
     },
     "execution_count": 17,
     "metadata": {},
     "output_type": "execute_result"
    }
   ],
   "source": [
    "top_features = [2,3,4,5]\n",
    "\n",
    "best_results = {}\n",
    "\n",
    "for i in top_features:\n",
    "    features = list(sorted_series_avg_rmse[:i].index)\n",
    "    rmse = knn_train_test(features,'price', numeric_cars)\n",
    "    best_results[i] = rmse\n",
    "    \n",
    "best_results"
   ]
  },
  {
   "cell_type": "markdown",
   "metadata": {},
   "source": [
    "### Task 5: Hyperparameter Tuning"
   ]
  },
  {
   "cell_type": "code",
   "execution_count": 18,
   "metadata": {
    "collapsed": true
   },
   "outputs": [],
   "source": [
    "k_values = list(range(1,26))\n",
    "\n",
    "def knn_train_test(train_cols, target, df):\n",
    "    np.random.seed(1)\n",
    "        \n",
    "    # Randomize order of rows in data frame.\n",
    "    shuffled_index = np.random.permutation(df.index)\n",
    "    rand_df = df.reindex(shuffled_index)  \n",
    "    feature = rand_df[train_cols] \n",
    "    y = rand_df[target]\n",
    "    \n",
    "    x_train,x_test,y_train,y_test = train_test_split(feature,y,test_size=0.2)\n",
    "    \n",
    "    k_rmses = {}\n",
    "    for k in k_values:\n",
    "        \n",
    "        knn = KNeighborsRegressor(n_neighbors=k)\n",
    "        # Fit a KNN model \n",
    "        knn.fit(x_train, y_train)\n",
    "        # Make a prediction\n",
    "        predictions = knn.predict(x_test)\n",
    "        # Calculate and return RMSE.\n",
    "        mse = mean_squared_error(y_test, predictions)\n",
    "        rmse = np.sqrt(mse)\n",
    "        k_rmses[k] = rmse\n",
    "    return k_rmses"
   ]
  },
  {
   "cell_type": "code",
   "execution_count": 19,
   "metadata": {
    "collapsed": false
   },
   "outputs": [
    {
     "data": {
      "text/plain": [
       "{2: {1: 8747.906692460774,\n",
       "  2: 8453.553802247905,\n",
       "  3: 8413.278815856118,\n",
       "  4: 8529.249955850455,\n",
       "  5: 8534.288452765117,\n",
       "  6: 8054.392416218894,\n",
       "  7: 8088.5867235688265,\n",
       "  8: 7876.814693269695,\n",
       "  9: 7689.95310768907,\n",
       "  10: 7804.506256980643,\n",
       "  11: 7547.8471891872805,\n",
       "  12: 7576.024343511063,\n",
       "  13: 7610.989323594912,\n",
       "  14: 7621.429810834683,\n",
       "  15: 7732.887040146563,\n",
       "  16: 7720.1445362471595,\n",
       "  17: 7774.486285841464,\n",
       "  18: 7774.990339217332,\n",
       "  19: 7782.614245917741,\n",
       "  20: 7784.729094957319,\n",
       "  21: 7835.2441573056185,\n",
       "  22: 7831.6130219560455,\n",
       "  23: 7843.883363987225,\n",
       "  24: 7793.797513114774,\n",
       "  25: 7802.201407602856},\n",
       " 3: {1: 8481.256910092985,\n",
       "  2: 7950.76207117909,\n",
       "  3: 7909.697528280641,\n",
       "  4: 7501.687849556758,\n",
       "  5: 7611.16795853304,\n",
       "  6: 7281.0958483920695,\n",
       "  7: 7619.871719787703,\n",
       "  8: 7275.658064550974,\n",
       "  9: 7539.294433516104,\n",
       "  10: 7542.270477531948,\n",
       "  11: 7605.537463131661,\n",
       "  12: 7685.121821759092,\n",
       "  13: 7798.537102204968,\n",
       "  14: 7950.582218725191,\n",
       "  15: 7986.690123755203,\n",
       "  16: 7955.455860504632,\n",
       "  17: 7957.731620861186,\n",
       "  18: 7989.555628514426,\n",
       "  19: 7991.983506121563,\n",
       "  20: 7984.815772886529,\n",
       "  21: 7890.062015604865,\n",
       "  22: 7892.407561923172,\n",
       "  23: 7900.6201465604145,\n",
       "  24: 7882.0118495110955,\n",
       "  25: 7881.557013138965},\n",
       " 4: {1: 8249.052803201104,\n",
       "  2: 7162.721541948982,\n",
       "  3: 7107.101411420989,\n",
       "  4: 6095.265667533491,\n",
       "  5: 5942.747590803433,\n",
       "  6: 6052.340095872927,\n",
       "  7: 6046.071101237934,\n",
       "  8: 6281.660658777362,\n",
       "  9: 6559.118237703361,\n",
       "  10: 6684.176319843006,\n",
       "  11: 6890.511946789075,\n",
       "  12: 7034.4476632556825,\n",
       "  13: 7365.172238040732,\n",
       "  14: 7520.457718138313,\n",
       "  15: 7585.604736245856,\n",
       "  16: 7736.999063272408,\n",
       "  17: 7732.082321366895,\n",
       "  18: 7766.539292941981,\n",
       "  19: 7800.858557621146,\n",
       "  20: 7818.450779686152,\n",
       "  21: 7833.21403404958,\n",
       "  22: 7854.619820973182,\n",
       "  23: 7860.960007135908,\n",
       "  24: 7853.536746072969,\n",
       "  25: 7878.439204116511},\n",
       " 5: {1: 8995.317629189089,\n",
       "  2: 8369.142354506823,\n",
       "  3: 8151.286332195947,\n",
       "  4: 7297.117121678944,\n",
       "  5: 7071.127778013915,\n",
       "  6: 6510.082102603536,\n",
       "  7: 6734.626517150763,\n",
       "  8: 6915.160921250993,\n",
       "  9: 7257.773307646443,\n",
       "  10: 7437.511077823683,\n",
       "  11: 7658.7337893813465,\n",
       "  12: 7644.370177541426,\n",
       "  13: 7648.082890396309,\n",
       "  14: 7605.011246863706,\n",
       "  15: 7719.54847626034,\n",
       "  16: 7605.98676871574,\n",
       "  17: 7707.788100839271,\n",
       "  18: 7770.482908398087,\n",
       "  19: 7787.972536509879,\n",
       "  20: 7790.968423642051,\n",
       "  21: 7824.822924677019,\n",
       "  22: 7865.395582355801,\n",
       "  23: 7852.301630199591,\n",
       "  24: 7887.630445088134,\n",
       "  25: 7882.694142002467},\n",
       " 6: {1: 8995.317629189089,\n",
       "  2: 8405.968323533583,\n",
       "  3: 8195.659435369162,\n",
       "  4: 7313.773871521459,\n",
       "  5: 6530.546317499019,\n",
       "  6: 6409.326135980374,\n",
       "  7: 6840.668812666774,\n",
       "  8: 7097.961087936406,\n",
       "  9: 7166.230591900898,\n",
       "  10: 7396.889466356788,\n",
       "  11: 7542.351333997545,\n",
       "  12: 7564.539367803476,\n",
       "  13: 7640.421860380865,\n",
       "  14: 7714.700325655454,\n",
       "  15: 7782.770670597401,\n",
       "  16: 7670.38492565496,\n",
       "  17: 7772.7606463023085,\n",
       "  18: 7808.752612868555,\n",
       "  19: 7759.010914705253,\n",
       "  20: 7772.515490367324,\n",
       "  21: 7804.822831308723,\n",
       "  22: 7834.652262983332,\n",
       "  23: 7896.236218615777,\n",
       "  24: 7928.263520408813,\n",
       "  25: 7909.900883533245},\n",
       " 7: {1: 8970.758212102253,\n",
       "  2: 7726.636689482041,\n",
       "  3: 7365.291212844202,\n",
       "  4: 6642.6254155219,\n",
       "  5: 6742.680024663784,\n",
       "  6: 7362.965183757305,\n",
       "  7: 7656.675529449143,\n",
       "  8: 7814.0065153463365,\n",
       "  9: 7834.5588513960165,\n",
       "  10: 7886.977344727827,\n",
       "  11: 7905.703027216837,\n",
       "  12: 8003.2657219503735,\n",
       "  13: 7969.599760929547,\n",
       "  14: 7895.2396681707605,\n",
       "  15: 7912.281195212359,\n",
       "  16: 7938.111642662075,\n",
       "  17: 7941.407577432332,\n",
       "  18: 7950.123001295345,\n",
       "  19: 7952.156880434312,\n",
       "  20: 7952.429403144677,\n",
       "  21: 7968.245792933974,\n",
       "  22: 7996.090314336814,\n",
       "  23: 8020.795930365576,\n",
       "  24: 8016.069221321901,\n",
       "  25: 8026.9429896492975}}"
      ]
     },
     "execution_count": 19,
     "metadata": {},
     "output_type": "execute_result"
    }
   ],
   "source": [
    "top_features = list(range(2,8))\n",
    "\n",
    "best_results = {}\n",
    "\n",
    "for i in top_features:\n",
    "    features = list(sorted_series_avg_rmse[:i].index)\n",
    "    k_rmses = knn_train_test(features,'price', numeric_cars)\n",
    "    best_results[i] = k_rmses\n",
    "    \n",
    "best_results"
   ]
  },
  {
   "cell_type": "code",
   "execution_count": 20,
   "metadata": {
    "collapsed": false
   },
   "outputs": [
    {
     "data": {
      "text/plain": [
       "{2: 11, 3: 8, 4: 5, 5: 6, 6: 6, 7: 4}"
      ]
     },
     "execution_count": 20,
     "metadata": {},
     "output_type": "execute_result"
    }
   ],
   "source": [
    "opt_k_values = {}\n",
    "for k, v in best_results.items():\n",
    "    min_v = min(v, key = v.get)\n",
    "    opt_k_values[k] = min_v\n",
    "opt_k_values    "
   ]
  },
  {
   "cell_type": "code",
   "execution_count": 23,
   "metadata": {
    "collapsed": false
   },
   "outputs": [
    {
     "data": {
      "text/plain": [
       "<matplotlib.legend.Legend at 0x7f2203d721d0>"
      ]
     },
     "execution_count": 23,
     "metadata": {},
     "output_type": "execute_result"
    },
    {
     "data": {
      "image/png": "[encoded data removed]",
      "text/plain": [
       "<matplotlib.figure.Figure at 0x7f2203d720b8>"
      ]
     },
     "metadata": {},
     "output_type": "display_data"
    }
   ],
   "source": [
    "for k, v in best_results.items():\n",
    "    x = list(v.keys())\n",
    "    y = list(v.values()) \n",
    "    plt.plot(x,y, label=\"{}\".format(k))\n",
    "   \n",
    "plt.xlabel('k value')\n",
    "plt.ylabel('RMSE')\n",
    "plt.legend()"
   ]
  },
  {
   "cell_type": "code",
   "execution_count": null,
   "metadata": {
    "collapsed": true
   },
   "outputs": [],
   "source": []
  }
 ],
 "metadata": {
  "kernelspec": {
   "display_name": "Python 3",
   "language": "python",
   "name": "python3"
  },
  "language_info": {
   "codemirror_mode": {
    "name": "ipython",
    "version": 3
   },
   "file_extension": ".py",
   "mimetype": "text/x-python",
   "name": "python",
   "nbconvert_exporter": "python",
   "pygments_lexer": "ipython3",
   "version": "3.4.3"
  }
 },
 "nbformat": 4,
 "nbformat_minor": 2
}
